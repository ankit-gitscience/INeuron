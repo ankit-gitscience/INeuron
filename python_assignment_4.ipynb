{
 "cells": [
  {
   "cell_type": "markdown",
   "metadata": {},
   "source": [
    "### PYTHON ASSIGNMENT 4\n",
    "\n",
    "<b>Name:</b> Ankit Srivastava \n",
    "<b>Email:</b> ankit.workofficial@gmail.com"
   ]
  },
  {
   "cell_type": "markdown",
   "metadata": {},
   "source": [
    "###### Write a Python Program(with class concepts) to find the area of the triangle using the below formula.\n",
    "###### area = (s*(s-a)*(s-b)*(s-c)) ** 0.5\n",
    "###### Function to take the length of the sides of triangle from user should be defined in the parent class and function to calculate the area should be defined in subclass."
   ]
  },
  {
   "cell_type": "code",
   "execution_count": 20,
   "metadata": {},
   "outputs": [],
   "source": [
    "class TriangleVals:\n",
    "    def __init__(self, s, a, b, c):\n",
    "        self.s = s\n",
    "        self.a = a\n",
    "        self.b = b\n",
    "        self.c = c\n",
    "        \n",
    "class TriangleArea(TriangleVals):\n",
    "    def __init__(self, s, a, b, c):\n",
    "        super(TriangleArea, self).__init__(s, a, b, c)\n",
    "#         TriangleVals.__init__(self, s, a, b, c)\n",
    "        \n",
    "    def calculate_area(self):\n",
    "        return ((self.s * (self.s - self.a)*(self.s - self.b)*(self.s - self.c)) * 0.5)\n",
    "        \n",
    "    "
   ]
  },
  {
   "cell_type": "code",
   "execution_count": 21,
   "metadata": {},
   "outputs": [
    {
     "data": {
      "text/plain": [
       "8228.0"
      ]
     },
     "execution_count": 21,
     "metadata": {},
     "output_type": "execute_result"
    }
   ],
   "source": [
    "ta= TriangleArea(34, 32,45,56)\n",
    "ta.calculate_area()"
   ]
  },
  {
   "cell_type": "markdown",
   "metadata": {},
   "source": [
    "###### Write a function filter_long_words() that takes a list of words and an integer n and returns the list of words that are longer than n.\n"
   ]
  },
  {
   "cell_type": "code",
   "execution_count": 26,
   "metadata": {},
   "outputs": [],
   "source": [
    "class FilterWords:\n",
    "    \n",
    "    def filter_long_words(self, lst_words, n):\n",
    "        return list(filter(lambda x: len(x)>n, lst_words))"
   ]
  },
  {
   "cell_type": "code",
   "execution_count": 27,
   "metadata": {},
   "outputs": [
    {
     "data": {
      "text/plain": [
       "['Samsung', 'Blackberry']"
      ]
     },
     "execution_count": 27,
     "metadata": {},
     "output_type": "execute_result"
    }
   ],
   "source": [
    "filter_obj = FilterWords()\n",
    "filter_obj.filter_long_words(['Samsung', 'Apple', 'LG', 'Nokia', 'Blackberry', 'HTC'], 5)"
   ]
  },
  {
   "cell_type": "markdown",
   "metadata": {},
   "source": [
    "######  Write a Python program using function concept that maps list of words into a list of integers representing the lengths of the corresponding words\n",
    "###### Hint: If a list [ ab,cde,erty] is passed on to the python function output should come as [2,3,4]. Here 2,3 and 4 are the lengths of the words in the list."
   ]
  },
  {
   "cell_type": "code",
   "execution_count": 32,
   "metadata": {},
   "outputs": [],
   "source": [
    "class WordsLen:\n",
    "    \n",
    "    def words_len(self, lst_words):\n",
    "        return list(map(lambda x: len(x), lst_words))"
   ]
  },
  {
   "cell_type": "code",
   "execution_count": 33,
   "metadata": {},
   "outputs": [
    {
     "data": {
      "text/plain": [
       "[7, 5, 2, 5, 10, 3]"
      ]
     },
     "execution_count": 33,
     "metadata": {},
     "output_type": "execute_result"
    }
   ],
   "source": [
    "words_obj = WordsLen()\n",
    "words_obj.words_len(['Samsung', 'Apple', 'LG', 'Nokia', 'Blackberry', 'HTC'])"
   ]
  },
  {
   "cell_type": "markdown",
   "metadata": {},
   "source": [
    "###### Write a Python function which takes a character (i.e. a string of length 1) and returns True if it is a vowel, False otherwise."
   ]
  },
  {
   "cell_type": "code",
   "execution_count": 42,
   "metadata": {},
   "outputs": [],
   "source": [
    "class VowelOrNot:\n",
    "    def __init__(self):\n",
    "        self.vowels = ['a', 'e', 'i', 'o', 'u']\n",
    "        \n",
    "    def vowel_or_not(self, char_):\n",
    "        return True if char_.lower() in self.vowels else False\n",
    "        "
   ]
  },
  {
   "cell_type": "code",
   "execution_count": 46,
   "metadata": {},
   "outputs": [
    {
     "name": "stdout",
     "output_type": "stream",
     "text": [
      "Is \"E\" a vowel: True\n",
      "Is \"X\" a vowel: False\n"
     ]
    }
   ],
   "source": [
    "vowel_obj = VowelOrNot()\n",
    "print(f'Is \"E\" a vowel: {vowel_obj.vowel_or_not(\"E\")}')\n",
    "print(f'Is \"X\" a vowel: {vowel_obj.vowel_or_not(\"X\")}')"
   ]
  }
 ],
 "metadata": {
  "kernelspec": {
   "display_name": "Python 3",
   "language": "python",
   "name": "python3"
  },
  "language_info": {
   "codemirror_mode": {
    "name": "ipython",
    "version": 3
   },
   "file_extension": ".py",
   "mimetype": "text/x-python",
   "name": "python",
   "nbconvert_exporter": "python",
   "pygments_lexer": "ipython3",
   "version": "3.8.2"
  }
 },
 "nbformat": 4,
 "nbformat_minor": 2
}
